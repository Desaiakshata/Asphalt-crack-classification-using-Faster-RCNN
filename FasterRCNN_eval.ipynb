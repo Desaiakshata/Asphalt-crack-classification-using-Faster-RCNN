{
  "nbformat": 4,
  "nbformat_minor": 0,
  "metadata": {
    "colab": {
      "name": "FasterRCNN_eval.ipynb",
      "provenance": [],
      "collapsed_sections": []
    },
    "kernelspec": {
      "name": "python3",
      "display_name": "Python 3"
    }
  },
  "cells": [
    {
      "cell_type": "code",
      "metadata": {
        "colab_type": "code",
        "id": "DbB-ILf8giW-",
        "colab": {
          "base_uri": "https://localhost:8080/",
          "height": 139
        },
        "outputId": "ef9357e7-1598-4957-d1ac-5bdb264e0001"
      },
      "source": [
        "!git clone https://github.com/tensorflow/models.git    "
      ],
      "execution_count": null,
      "outputs": [
        {
          "output_type": "stream",
          "text": [
            "Cloning into 'models'...\n",
            "remote: Enumerating objects: 85, done.\u001b[K\n",
            "remote: Counting objects: 100% (85/85), done.\u001b[K\n",
            "remote: Compressing objects: 100% (76/76), done.\u001b[K\n",
            "remote: Total 42066 (delta 47), reused 39 (delta 9), pack-reused 41981\u001b[K\n",
            "Receiving objects: 100% (42066/42066), 549.31 MiB | 16.04 MiB/s, done.\n",
            "Resolving deltas: 100% (28584/28584), done.\n"
          ],
          "name": "stdout"
        }
      ]
    },
    {
      "cell_type": "code",
      "metadata": {
        "id": "maIcBFXracUf",
        "colab_type": "code",
        "colab": {}
      },
      "source": [
        "# If this does not work, download the folder from github and upload it to colab\n",
        "!git clone https://github.gatech.edu/adesai80/Asphalt-crack-classification-using-Faster-RCNN.git"
      ],
      "execution_count": null,
      "outputs": []
    },
    {
      "cell_type": "code",
      "metadata": {
        "id": "2Ru_3xEmlfdy",
        "colab_type": "code",
        "colab": {}
      },
      "source": [
        "# Unzip the downloaded file\n",
        "!unzip /content/Asphalt-crack-classification-using-Faster-RCNN-master.zip"
      ],
      "execution_count": null,
      "outputs": []
    },
    {
      "cell_type": "code",
      "metadata": {
        "id": "OOfTi2URiH6o",
        "colab_type": "code",
        "colab": {}
      },
      "source": [
        "!mv /content/Asphalt-crack-classification-using-Faster-RCNN-master/Custom-Faster-RCNN-Using-Tensorfow-Object-Detection-API /content"
      ],
      "execution_count": null,
      "outputs": []
    },
    {
      "cell_type": "code",
      "metadata": {
        "id": "xq7QI6lmm31N",
        "colab_type": "code",
        "colab": {}
      },
      "source": [
        "# Moving scripts\n",
        "!mv /content/Asphalt-crack-classification-using-Faster-RCNN-master/eval_util.py /content/models/research/object_detection/\n",
        "\n",
        "!mv /content/Asphalt-crack-classification-using-Faster-RCNN-master/crack_category.py /content/Asphalt-crack-classification-using-Faster-RCNN-master/visualization_utils.py /content/Asphalt-crack-classification-using-Faster-RCNN-master/per_image_evaluation.py /content/Asphalt-crack-classification-using-Faster-RCNN-master/object_detection_evaluation.py /content/Asphalt-crack-classification-using-Faster-RCNN-master/np_box_list_ops.py /content/Asphalt-crack-classification-using-Faster-RCNN-master/metrics.py /content/models/research/object_detection/utils\n",
        "\n",
        "!mv /content/Asphalt-crack-classification-using-Faster-RCNN-master/evaluator.py /content/models/research/object_detection/legacy\n",
        "\n",
        "!mv /content/Asphalt-crack-classification-using-Faster-RCNN-master/create_pascal_tf_record.py /content/models/research/object_detection/dataset_tools/"
      ],
      "execution_count": null,
      "outputs": []
    },
    {
      "cell_type": "code",
      "metadata": {
        "id": "JVFsDIiou2c2",
        "colab_type": "code",
        "colab": {
          "base_uri": "https://localhost:8080/",
          "height": 35
        },
        "outputId": "0c6a27d3-be68-458c-903c-13a93690002d"
      },
      "source": [
        "%cd /content/models/research\n",
        "!protoc object_detection/protos/*.proto --python_out=.\n"
      ],
      "execution_count": null,
      "outputs": [
        {
          "output_type": "stream",
          "text": [
            "/content/models/research\n"
          ],
          "name": "stdout"
        }
      ]
    },
    {
      "cell_type": "code",
      "metadata": {
        "id": "tLrgJMvCvVaz",
        "colab_type": "code",
        "colab": {}
      },
      "source": [
        "!pip install tensorflow==1.15.2\n",
        "!pip install tf_slim\n",
        "!pip install --user xlutils"
      ],
      "execution_count": null,
      "outputs": []
    },
    {
      "cell_type": "code",
      "metadata": {
        "id": "hUWO5IN3Xbjh",
        "colab_type": "code",
        "colab": {
          "base_uri": "https://localhost:8080/",
          "height": 52
        },
        "outputId": "03852956-154a-41a4-b3a7-e304b0eef08e"
      },
      "source": [
        "! echo $PYTHONPATH\n",
        "import os\n",
        "os.environ['PYTHONPATH'] += \":/content/models/research\"\n",
        "os.environ['PYTHONPATH'] += \":/content/models/research/slim\"\n",
        "! echo $PYTHONPATH\n"
      ],
      "execution_count": null,
      "outputs": [
        {
          "output_type": "stream",
          "text": [
            "/env/python\n",
            "/env/python:/content/models/research:/content/models/research/slim\n"
          ],
          "name": "stdout"
        }
      ]
    },
    {
      "cell_type": "code",
      "metadata": {
        "id": "JQP2T7XunjwP",
        "colab_type": "code",
        "colab": {}
      },
      "source": [
        "# Creating a TF record\n",
        "!python /content/models/research/object_detection/dataset_tools/create_pascal_tf_record.py --data_dir=/content/Asphalt-crack-classification-using-Faster-RCNN-master/Custom-Faster-RCNN-Using-Tensorfow-Object-Detection-API/dataset --annotations_dir=/content/Asphalt-crack-classification-using-Faster-RCNN-master/Custom-Faster-RCNN-Using-Tensorfow-Object-Detection-API/dataset/Annotations --output_path=/content/Asphalt-crack-classification-using-Faster-RCNN-master/Custom-Faster-RCNN-Using-Tensorfow-Object-Detection-API/dataset/train.record --label_map_path=/content/Asphalt-crack-classification-using-Faster-RCNN-master/Custom-Faster-RCNN-Using-Tensorfow-Object-Detection-API/dataset/label.pbtxt"
      ],
      "execution_count": null,
      "outputs": []
    },
    {
      "cell_type": "code",
      "metadata": {
        "id": "YeJhA5NIW9U8",
        "colab_type": "code",
        "colab": {
          "base_uri": "https://localhost:8080/",
          "height": 1000
        },
        "outputId": "440f68bb-02b3-454c-e3b1-e438f71d2d32"
      },
      "source": [
        "# Testing and Post-processing. This script runs the crack_category.py (post-processing different crack categories) and visualisation_utils.py (visualizing detection results by drawing on images) along \n",
        "# with many other scripts to generate the precision, recall scores, output detection result images and post processes crack categories whaich are stored in the xls file.\n",
        "\n",
        "%cd /content/models/research/\n",
        "!python object_detection/legacy/eval.py --checkpoint_dir='/content/drive/My Drive/CP' --eval_dir='/content/Custom-Faster-RCNN-Using-Tensorfow-Object-Detection-API/eval' --pipeline_config_path=/content/Custom-Faster-RCNN-Using-Tensorfow-Object-Detection-API/faster_rcnn_resnet101_coco.config"
      ],
      "execution_count": null,
      "outputs": [
        {
          "output_type": "stream",
          "text": [
            "/content/models/research\n",
            "WARNING:tensorflow:From /usr/local/lib/python3.6/dist-packages/absl/app.py:250: main (from __main__) is deprecated and will be removed in a future version.\n",
            "Instructions for updating:\n",
            "Use object_detection/model_main.py.\n",
            "W0818 12:54:42.934632 139776055162752 deprecation.py:323] From /usr/local/lib/python3.6/dist-packages/absl/app.py:250: main (from __main__) is deprecated and will be removed in a future version.\n",
            "Instructions for updating:\n",
            "Use object_detection/model_main.py.\n",
            "WARNING:tensorflow:From /content/models/research/object_detection/builders/dataset_builder.py:100: parallel_interleave (from tensorflow.python.data.experimental.ops.interleave_ops) is deprecated and will be removed in a future version.\n",
            "Instructions for updating:\n",
            "Use `tf.data.Dataset.interleave(map_func, cycle_length, block_length, num_parallel_calls=tf.data.experimental.AUTOTUNE)` instead. If sloppy execution is desired, use `tf.data.Options.experimental_determinstic`.\n",
            "W0818 12:54:42.979540 139776055162752 deprecation.py:323] From /content/models/research/object_detection/builders/dataset_builder.py:100: parallel_interleave (from tensorflow.python.data.experimental.ops.interleave_ops) is deprecated and will be removed in a future version.\n",
            "Instructions for updating:\n",
            "Use `tf.data.Dataset.interleave(map_func, cycle_length, block_length, num_parallel_calls=tf.data.experimental.AUTOTUNE)` instead. If sloppy execution is desired, use `tf.data.Options.experimental_determinstic`.\n",
            "WARNING:tensorflow:From /content/models/research/object_detection/builders/dataset_builder.py:175: DatasetV1.map_with_legacy_function (from tensorflow.python.data.ops.dataset_ops) is deprecated and will be removed in a future version.\n",
            "Instructions for updating:\n",
            "Use `tf.data.Dataset.map()\n",
            "W0818 12:54:43.002179 139776055162752 deprecation.py:323] From /content/models/research/object_detection/builders/dataset_builder.py:175: DatasetV1.map_with_legacy_function (from tensorflow.python.data.ops.dataset_ops) is deprecated and will be removed in a future version.\n",
            "Instructions for updating:\n",
            "Use `tf.data.Dataset.map()\n",
            "WARNING:tensorflow:From /content/models/research/object_detection/builders/dataset_builder.py:48: DatasetV1.make_initializable_iterator (from tensorflow.python.data.ops.dataset_ops) is deprecated and will be removed in a future version.\n",
            "Instructions for updating:\n",
            "Use `for ... in dataset:` to iterate over a dataset. If using `tf.estimator`, return the `Dataset` object directly from your input function. As a last resort, you can use `tf.compat.v1.data.make_initializable_iterator(dataset)`.\n",
            "W0818 12:54:46.057562 139776055162752 deprecation.py:323] From /content/models/research/object_detection/builders/dataset_builder.py:48: DatasetV1.make_initializable_iterator (from tensorflow.python.data.ops.dataset_ops) is deprecated and will be removed in a future version.\n",
            "Instructions for updating:\n",
            "Use `for ... in dataset:` to iterate over a dataset. If using `tf.estimator`, return the `Dataset` object directly from your input function. As a last resort, you can use `tf.compat.v1.data.make_initializable_iterator(dataset)`.\n",
            "WARNING:tensorflow:From /content/models/research/object_detection/core/prefetcher.py:57: QueueRunner.__init__ (from tensorflow.python.training.queue_runner_impl) is deprecated and will be removed in a future version.\n",
            "Instructions for updating:\n",
            "To construct input pipelines, use the `tf.data` module.\n",
            "W0818 12:54:46.068759 139776055162752 deprecation.py:323] From /content/models/research/object_detection/core/prefetcher.py:57: QueueRunner.__init__ (from tensorflow.python.training.queue_runner_impl) is deprecated and will be removed in a future version.\n",
            "Instructions for updating:\n",
            "To construct input pipelines, use the `tf.data` module.\n",
            "WARNING:tensorflow:From /content/models/research/object_detection/core/prefetcher.py:57: add_queue_runner (from tensorflow.python.training.queue_runner_impl) is deprecated and will be removed in a future version.\n",
            "Instructions for updating:\n",
            "To construct input pipelines, use the `tf.data` module.\n",
            "W0818 12:54:46.069763 139776055162752 deprecation.py:323] From /content/models/research/object_detection/core/prefetcher.py:57: add_queue_runner (from tensorflow.python.training.queue_runner_impl) is deprecated and will be removed in a future version.\n",
            "Instructions for updating:\n",
            "To construct input pipelines, use the `tf.data` module.\n",
            "INFO:tensorflow:Scale of 0 disables regularizer.\n",
            "I0818 12:54:46.130581 139776055162752 regularizers.py:99] Scale of 0 disables regularizer.\n",
            "WARNING:tensorflow:From /usr/local/lib/python3.6/dist-packages/tf_slim/layers/layers.py:1089: Layer.apply (from tensorflow.python.keras.engine.base_layer) is deprecated and will be removed in a future version.\n",
            "Instructions for updating:\n",
            "Please use `layer.__call__` method instead.\n",
            "W0818 12:54:46.133523 139776055162752 deprecation.py:323] From /usr/local/lib/python3.6/dist-packages/tf_slim/layers/layers.py:1089: Layer.apply (from tensorflow.python.keras.engine.base_layer) is deprecated and will be removed in a future version.\n",
            "Instructions for updating:\n",
            "Please use `layer.__call__` method instead.\n",
            "INFO:tensorflow:Scale of 0 disables regularizer.\n",
            "I0818 12:54:49.623876 139776055162752 regularizers.py:99] Scale of 0 disables regularizer.\n",
            "INFO:tensorflow:Scale of 0 disables regularizer.\n",
            "I0818 12:54:49.779588 139776055162752 regularizers.py:99] Scale of 0 disables regularizer.\n",
            "INFO:tensorflow:depth of additional conv before box predictor: 0\n",
            "I0818 12:54:49.780110 139776055162752 convolutional_box_predictor.py:156] depth of additional conv before box predictor: 0\n",
            "WARNING:tensorflow:From /content/models/research/object_detection/core/box_list_ops.py:166: where (from tensorflow.python.ops.array_ops) is deprecated and will be removed in a future version.\n",
            "Instructions for updating:\n",
            "Use tf.where in 2.0, which has the same broadcast rule as np.where\n",
            "W0818 12:54:49.835005 139776055162752 deprecation.py:323] From /content/models/research/object_detection/core/box_list_ops.py:166: where (from tensorflow.python.ops.array_ops) is deprecated and will be removed in a future version.\n",
            "Instructions for updating:\n",
            "Use tf.where in 2.0, which has the same broadcast rule as np.where\n",
            "WARNING:tensorflow:From /content/models/research/object_detection/utils/spatial_transform_ops.py:478: calling crop_and_resize_v1 (from tensorflow.python.ops.image_ops_impl) with box_ind is deprecated and will be removed in a future version.\n",
            "Instructions for updating:\n",
            "box_ind is deprecated, use box_indices instead\n",
            "W0818 12:54:50.338603 139776055162752 deprecation.py:506] From /content/models/research/object_detection/utils/spatial_transform_ops.py:478: calling crop_and_resize_v1 (from tensorflow.python.ops.image_ops_impl) with box_ind is deprecated and will be removed in a future version.\n",
            "Instructions for updating:\n",
            "box_ind is deprecated, use box_indices instead\n",
            "INFO:tensorflow:Scale of 0 disables regularizer.\n",
            "I0818 12:54:50.355168 139776055162752 regularizers.py:99] Scale of 0 disables regularizer.\n",
            "WARNING:tensorflow:From /usr/local/lib/python3.6/dist-packages/tf_slim/layers/layers.py:1666: flatten (from tensorflow.python.layers.core) is deprecated and will be removed in a future version.\n",
            "Instructions for updating:\n",
            "Use keras.layers.flatten instead.\n",
            "W0818 12:54:50.686705 139776055162752 deprecation.py:323] From /usr/local/lib/python3.6/dist-packages/tf_slim/layers/layers.py:1666: flatten (from tensorflow.python.layers.core) is deprecated and will be removed in a future version.\n",
            "Instructions for updating:\n",
            "Use keras.layers.flatten instead.\n",
            "INFO:tensorflow:Scale of 0 disables regularizer.\n",
            "I0818 12:54:50.689426 139776055162752 regularizers.py:99] Scale of 0 disables regularizer.\n",
            "INFO:tensorflow:Scale of 0 disables regularizer.\n",
            "I0818 12:54:50.707323 139776055162752 regularizers.py:99] Scale of 0 disables regularizer.\n",
            "WARNING:tensorflow:From /usr/local/lib/python3.6/dist-packages/tensorflow_core/python/util/dispatch.py:180: batch_gather (from tensorflow.python.ops.array_ops) is deprecated and will be removed after 2017-10-25.\n",
            "Instructions for updating:\n",
            "`tf.batch_gather` is deprecated, please use `tf.gather` with `batch_dims=-1` instead.\n",
            "W0818 12:54:54.937090 139776055162752 deprecation.py:323] From /usr/local/lib/python3.6/dist-packages/tensorflow_core/python/util/dispatch.py:180: batch_gather (from tensorflow.python.ops.array_ops) is deprecated and will be removed after 2017-10-25.\n",
            "Instructions for updating:\n",
            "`tf.batch_gather` is deprecated, please use `tf.gather` with `batch_dims=-1` instead.\n",
            "WARNING:tensorflow:From /content/models/research/object_detection/core/losses.py:380: softmax_cross_entropy_with_logits (from tensorflow.python.ops.nn_ops) is deprecated and will be removed in a future version.\n",
            "Instructions for updating:\n",
            "\n",
            "Future major versions of TensorFlow will allow gradients to flow\n",
            "into the labels input on backprop by default.\n",
            "\n",
            "See `tf.nn.softmax_cross_entropy_with_logits_v2`.\n",
            "\n",
            "W0818 12:54:55.308258 139776055162752 deprecation.py:323] From /content/models/research/object_detection/core/losses.py:380: softmax_cross_entropy_with_logits (from tensorflow.python.ops.nn_ops) is deprecated and will be removed in a future version.\n",
            "Instructions for updating:\n",
            "\n",
            "Future major versions of TensorFlow will allow gradients to flow\n",
            "into the labels input on backprop by default.\n",
            "\n",
            "See `tf.nn.softmax_cross_entropy_with_logits_v2`.\n",
            "\n",
            "WARNING:tensorflow:From /content/models/research/object_detection/eval_util.py:864: to_int64 (from tensorflow.python.ops.math_ops) is deprecated and will be removed in a future version.\n",
            "Instructions for updating:\n",
            "Use `tf.cast` instead.\n",
            "W0818 12:54:55.735981 139776055162752 deprecation.py:323] From /content/models/research/object_detection/eval_util.py:864: to_int64 (from tensorflow.python.ops.math_ops) is deprecated and will be removed in a future version.\n",
            "Instructions for updating:\n",
            "Use `tf.cast` instead.\n",
            "INFO:tensorflow:Starting evaluation at 2020-08-18-12:54:56\n",
            "I0818 12:54:56.438126 139776055162752 eval_util.py:537] Starting evaluation at 2020-08-18-12:54:56\n",
            "2020-08-18 12:54:56.444568: I tensorflow/core/platform/cpu_feature_guard.cc:142] Your CPU supports instructions that this TensorFlow binary was not compiled to use: AVX2 FMA\n",
            "2020-08-18 12:54:56.448998: I tensorflow/core/platform/profile_utils/cpu_utils.cc:94] CPU Frequency: 2250000000 Hz\n",
            "2020-08-18 12:54:56.449222: I tensorflow/compiler/xla/service/service.cc:168] XLA service 0x1a45b80 initialized for platform Host (this does not guarantee that XLA will be used). Devices:\n",
            "2020-08-18 12:54:56.449252: I tensorflow/compiler/xla/service/service.cc:176]   StreamExecutor device (0): Host, Default Version\n",
            "INFO:tensorflow:Restoring parameters from /content/drive/My Drive/CP/model.ckpt-45904\n",
            "I0818 12:55:00.443382 139776055162752 saver.py:1284] Restoring parameters from /content/drive/My Drive/CP/model.ckpt-45904\n",
            "LcmsResult_ImageRng_001550.jpg\n",
            "INFO:tensorflow:Creating detection visualizations.\n",
            "I0818 12:55:18.106599 139776055162752 eval_util.py:192] Creating detection visualizations.\n",
            "-------------------------------------------------------------------\n",
            "[1 1]\n",
            "[1 1]\n",
            "2\n",
            "box2 <object_detection.utils.np_box_list.BoxList object at 0x7f1fdf380470>\n",
            "box2 <object_detection.utils.np_box_list.BoxList object at 0x7f1fdf3804e0>\n",
            "(1250, 1040, 3)\n",
            "ymin, xmin, ymax, xmax 10.143444061279297 224.47122192382812 603.728271484375 309.9076843261719\n",
            "drawinggggggggggggggggggggg\n",
            "(1250, 1040, 3)\n",
            "ymin, xmin, ymax, xmax 608.2295532226562 223.54205322265625 1237.818359375 320.04534912109375\n",
            "drawinggggggggggggggggggggg\n",
            "INFO:tensorflow:Detection visualizations written to summary with tag image-0.\n",
            "I0818 12:55:20.859214 139776055162752 eval_util.py:274] Detection visualizations written to summary with tag image-0.\n",
            "LcmsResult_ImageRng_000292.jpg\n",
            "INFO:tensorflow:Creating detection visualizations.\n",
            "I0818 12:55:30.462070 139776055162752 eval_util.py:192] Creating detection visualizations.\n",
            "-------------------------------------------------------------------\n",
            "[6 6 6 5 6 5 6 5 6 5 1 2 2 7 5 2 5 5 1]\n",
            "------------------------ [6 6 6 6]\n",
            "------------------------ []\n",
            "------------------------ []\n",
            "------------------------ []\n",
            "[6 6 6 5 6]\n",
            "5\n",
            "box2 <object_detection.utils.np_box_list.BoxList object at 0x7f1fd66680b8>\n",
            "box2 <object_detection.utils.np_box_list.BoxList object at 0x7f1fd66681d0>\n",
            "box2 <object_detection.utils.np_box_list.BoxList object at 0x7f1fd66680b8>\n",
            "box2 <object_detection.utils.np_box_list.BoxList object at 0x7f1fd66681d0>\n",
            "box2 <object_detection.utils.np_box_list.BoxList object at 0x7f1fd66680b8>\n",
            "Block crack level 2 detected\n",
            "(1250, 1040, 3)\n",
            "ymin, xmin, ymax, xmax 41.11606216430664 670.4142456054688 574.2830810546875 939.6956176757812\n",
            "drawinggggggggggggggggggggg\n",
            "(1250, 1040, 3)\n",
            "ymin, xmin, ymax, xmax 497.71875 710.7581787109375 816.35498046875 943.135498046875\n",
            "drawinggggggggggggggggggggg\n",
            "(1250, 1040, 3)\n",
            "ymin, xmin, ymax, xmax 506.2116394042969 605.6893310546875 789.8034057617188 774.3602905273438\n",
            "drawinggggggggggggggggggggg\n",
            "(1250, 1040, 3)\n",
            "ymin, xmin, ymax, xmax 1174.875732421875 8.250823020935059 1219.0572509765625 142.8520050048828\n",
            "drawinggggggggggggggggggggg\n",
            "(1250, 1040, 3)\n",
            "ymin, xmin, ymax, xmax 739.826904296875 728.5829467773438 1172.7230224609375 929.203125\n",
            "drawinggggggggggggggggggggg\n",
            "INFO:tensorflow:Detection visualizations written to summary with tag image-1.\n",
            "I0818 12:55:31.508296 139776055162752 eval_util.py:274] Detection visualizations written to summary with tag image-1.\n",
            "LcmsResult_ImageRng_000081.jpg\n",
            "INFO:tensorflow:Creating detection visualizations.\n",
            "I0818 12:55:40.967658 139776055162752 eval_util.py:192] Creating detection visualizations.\n",
            "-------------------------------------------------------------------\n",
            "[5 7 5]\n",
            "[5 7 5]\n",
            "3\n",
            "box2 <object_detection.utils.np_box_list.BoxList object at 0x7f1fd66889b0>\n",
            "box2 <object_detection.utils.np_box_list.BoxList object at 0x7f1fd66889e8>\n",
            "box2 <object_detection.utils.np_box_list.BoxList object at 0x7f1fd66889b0>\n",
            "(1250, 1040, 3)\n",
            "ymin, xmin, ymax, xmax 990.7200927734375 89.17497253417969 1052.6324462890625 561.1906127929688\n",
            "drawinggggggggggggggggggggg\n",
            "(1250, 1040, 3)\n",
            "ymin, xmin, ymax, xmax 623.77392578125 48.231685638427734 1238.994140625 121.52102661132812\n",
            "drawinggggggggggggggggggggg\n",
            "(1250, 1040, 3)\n",
            "ymin, xmin, ymax, xmax 955.0249633789062 666.7774047851562 1016.467529296875 804.45458984375\n",
            "drawinggggggggggggggggggggg\n",
            "INFO:tensorflow:Detection visualizations written to summary with tag image-2.\n",
            "I0818 12:55:41.982217 139776055162752 eval_util.py:274] Detection visualizations written to summary with tag image-2.\n",
            "INFO:tensorflow:Running eval batches done.\n",
            "I0818 12:55:41.990767 139776055162752 eval_util.py:407] Running eval batches done.\n",
            "INFO:tensorflow:# success: 3\n",
            "I0818 12:55:41.990985 139776055162752 eval_util.py:412] # success: 3\n",
            "INFO:tensorflow:# skipped: 0\n",
            "I0818 12:55:41.991113 139776055162752 eval_util.py:413] # skipped: 0\n",
            "W0818 12:55:41.991302 139776055162752 object_detection_evaluation.py:1291] The following classes have no ground truth examples: [3 4 7]\n",
            "I0818 12:55:41.992421 139776055162752 object_detection_evaluation.py:1323] average_precision: 0.500000\n",
            "I0818 12:55:41.993289 139776055162752 object_detection_evaluation.py:1323] average_precision: 0.500000\n",
            "I0818 12:55:41.993622 139776055162752 object_detection_evaluation.py:1323] average_precision: 1.000000\n",
            "I0818 12:55:41.993951 139776055162752 object_detection_evaluation.py:1323] average_precision: 1.000000\n",
            "/content/models/research/object_detection/utils/metrics.py:154: RuntimeWarning: invalid value encountered in true_divide\n",
            "  num_images_correctly_detected_per_class / num_gt_imgs_per_class)\n",
            "INFO:tensorflow:Writing metrics to tf summary.\n",
            "I0818 12:55:42.449993 139776055162752 eval_util.py:93] Writing metrics to tf summary.\n",
            "INFO:tensorflow:Losses/Loss/BoxClassifierLoss/classification_loss: 0.320012\n",
            "I0818 12:55:42.450446 139776055162752 eval_util.py:100] Losses/Loss/BoxClassifierLoss/classification_loss: 0.320012\n",
            "INFO:tensorflow:Losses/Loss/BoxClassifierLoss/localization_loss: 0.280595\n",
            "I0818 12:55:42.450661 139776055162752 eval_util.py:100] Losses/Loss/BoxClassifierLoss/localization_loss: 0.280595\n",
            "INFO:tensorflow:Losses/Loss/RPNLoss/localization_loss: 0.175981\n",
            "I0818 12:55:42.450880 139776055162752 eval_util.py:100] Losses/Loss/RPNLoss/localization_loss: 0.175981\n",
            "INFO:tensorflow:Losses/Loss/RPNLoss/objectness_loss: 0.205289\n",
            "I0818 12:55:42.451080 139776055162752 eval_util.py:100] Losses/Loss/RPNLoss/objectness_loss: 0.205289\n",
            "INFO:tensorflow:PascalBoxes_PerformanceByCategory/AP@0.5IOU/B1: 1.000000\n",
            "I0818 12:55:42.451339 139776055162752 eval_util.py:100] PascalBoxes_PerformanceByCategory/AP@0.5IOU/B1: 1.000000\n",
            "INFO:tensorflow:PascalBoxes_PerformanceByCategory/AP@0.5IOU/B2: 1.000000\n",
            "I0818 12:55:42.451555 139776055162752 eval_util.py:100] PascalBoxes_PerformanceByCategory/AP@0.5IOU/B2: 1.000000\n",
            "INFO:tensorflow:PascalBoxes_PerformanceByCategory/AP@0.5IOU/L1: 0.500000\n",
            "I0818 12:55:42.451735 139776055162752 eval_util.py:100] PascalBoxes_PerformanceByCategory/AP@0.5IOU/L1: 0.500000\n",
            "INFO:tensorflow:PascalBoxes_PerformanceByCategory/AP@0.5IOU/L1-B1: nan\n",
            "I0818 12:55:42.452314 139776055162752 eval_util.py:100] PascalBoxes_PerformanceByCategory/AP@0.5IOU/L1-B1: nan\n",
            "INFO:tensorflow:PascalBoxes_PerformanceByCategory/AP@0.5IOU/L2: 0.500000\n",
            "I0818 12:55:42.452681 139776055162752 eval_util.py:100] PascalBoxes_PerformanceByCategory/AP@0.5IOU/L2: 0.500000\n",
            "INFO:tensorflow:PascalBoxes_PerformanceByCategory/AP@0.5IOU/L3: nan\n",
            "I0818 12:55:42.452882 139776055162752 eval_util.py:100] PascalBoxes_PerformanceByCategory/AP@0.5IOU/L3: nan\n",
            "INFO:tensorflow:PascalBoxes_PerformanceByCategory/AP@0.5IOU/L4: nan\n",
            "I0818 12:55:42.453061 139776055162752 eval_util.py:100] PascalBoxes_PerformanceByCategory/AP@0.5IOU/L4: nan\n",
            "INFO:tensorflow:PascalBoxes_PerformanceByCategory/Precision@0.5IOU/B1: 0.111111\n",
            "I0818 12:55:42.453226 139776055162752 eval_util.py:100] PascalBoxes_PerformanceByCategory/Precision@0.5IOU/B1: 0.111111\n",
            "INFO:tensorflow:PascalBoxes_PerformanceByCategory/Precision@0.5IOU/B2: 1.000000\n",
            "I0818 12:55:42.453392 139776055162752 eval_util.py:100] PascalBoxes_PerformanceByCategory/Precision@0.5IOU/B2: 1.000000\n",
            "INFO:tensorflow:PascalBoxes_PerformanceByCategory/Precision@0.5IOU/L1: 0.750000\n",
            "I0818 12:55:42.453556 139776055162752 eval_util.py:100] PascalBoxes_PerformanceByCategory/Precision@0.5IOU/L1: 0.750000\n",
            "INFO:tensorflow:PascalBoxes_PerformanceByCategory/Precision@0.5IOU/L1-B1: nan\n",
            "I0818 12:55:42.453717 139776055162752 eval_util.py:100] PascalBoxes_PerformanceByCategory/Precision@0.5IOU/L1-B1: nan\n",
            "INFO:tensorflow:PascalBoxes_PerformanceByCategory/Precision@0.5IOU/L2: 0.250000\n",
            "I0818 12:55:42.453921 139776055162752 eval_util.py:100] PascalBoxes_PerformanceByCategory/Precision@0.5IOU/L2: 0.250000\n",
            "INFO:tensorflow:PascalBoxes_PerformanceByCategory/Precision@0.5IOU/L3: nan\n",
            "I0818 12:55:42.454091 139776055162752 eval_util.py:100] PascalBoxes_PerformanceByCategory/Precision@0.5IOU/L3: nan\n",
            "INFO:tensorflow:PascalBoxes_PerformanceByCategory/Precision@0.5IOU/L4: nan\n",
            "I0818 12:55:42.454256 139776055162752 eval_util.py:100] PascalBoxes_PerformanceByCategory/Precision@0.5IOU/L4: nan\n",
            "INFO:tensorflow:PascalBoxes_PerformanceByCategory/Recall@0.5IOU/B1: 1.000000\n",
            "I0818 12:55:42.454794 139776055162752 eval_util.py:100] PascalBoxes_PerformanceByCategory/Recall@0.5IOU/B1: 1.000000\n",
            "INFO:tensorflow:PascalBoxes_PerformanceByCategory/Recall@0.5IOU/B2: 1.000000\n",
            "I0818 12:55:42.455149 139776055162752 eval_util.py:100] PascalBoxes_PerformanceByCategory/Recall@0.5IOU/B2: 1.000000\n",
            "INFO:tensorflow:PascalBoxes_PerformanceByCategory/Recall@0.5IOU/L1: 0.500000\n",
            "I0818 12:55:42.455323 139776055162752 eval_util.py:100] PascalBoxes_PerformanceByCategory/Recall@0.5IOU/L1: 0.500000\n",
            "INFO:tensorflow:PascalBoxes_PerformanceByCategory/Recall@0.5IOU/L1-B1: nan\n",
            "I0818 12:55:42.455479 139776055162752 eval_util.py:100] PascalBoxes_PerformanceByCategory/Recall@0.5IOU/L1-B1: nan\n",
            "INFO:tensorflow:PascalBoxes_PerformanceByCategory/Recall@0.5IOU/L2: 0.500000\n",
            "I0818 12:55:42.455639 139776055162752 eval_util.py:100] PascalBoxes_PerformanceByCategory/Recall@0.5IOU/L2: 0.500000\n",
            "INFO:tensorflow:PascalBoxes_PerformanceByCategory/Recall@0.5IOU/L3: nan\n",
            "I0818 12:55:42.455895 139776055162752 eval_util.py:100] PascalBoxes_PerformanceByCategory/Recall@0.5IOU/L3: nan\n",
            "INFO:tensorflow:PascalBoxes_PerformanceByCategory/Recall@0.5IOU/L4: nan\n",
            "I0818 12:55:42.456439 139776055162752 eval_util.py:100] PascalBoxes_PerformanceByCategory/Recall@0.5IOU/L4: nan\n",
            "INFO:tensorflow:PascalBoxes_Precision/mAP@0.5IOU: 0.750000\n",
            "I0818 12:55:42.456623 139776055162752 eval_util.py:100] PascalBoxes_Precision/mAP@0.5IOU: 0.750000\n",
            "INFO:tensorflow:Metrics written to tf summary.\n",
            "I0818 12:55:42.456748 139776055162752 eval_util.py:101] Metrics written to tf summary.\n",
            "Traceback (most recent call last):\n",
            "  File \"object_detection/legacy/eval.py\", line 142, in <module>\n",
            "    tf.app.run()\n",
            "  File \"/usr/local/lib/python3.6/dist-packages/tensorflow_core/python/platform/app.py\", line 40, in run\n",
            "    _run(main=main, argv=argv, flags_parser=_parse_flags_tolerate_undef)\n",
            "  File \"/usr/local/lib/python3.6/dist-packages/absl/app.py\", line 299, in run\n",
            "    _run_main(main, args)\n",
            "  File \"/usr/local/lib/python3.6/dist-packages/absl/app.py\", line 250, in _run_main\n",
            "    sys.exit(main(argv))\n",
            "  File \"/usr/local/lib/python3.6/dist-packages/tensorflow_core/python/util/deprecation.py\", line 324, in new_func\n",
            "    return func(*args, **kwargs)\n",
            "  File \"object_detection/legacy/eval.py\", line 138, in main\n",
            "    graph_hook_fn=graph_rewriter_fn)\n",
            "  File \"/content/models/research/object_detection/legacy/evaluator.py\", line 299, in evaluate\n",
            "    eval_export_path=eval_config.export_path)\n",
            "  File \"/content/models/research/object_detection/eval_util.py\", line 574, in repeated_checkpoint_run\n",
            "    time.sleep(time_to_next_eval)\n",
            "KeyboardInterrupt\n",
            "^C\n"
          ],
          "name": "stdout"
        }
      ]
    }
  ]
}